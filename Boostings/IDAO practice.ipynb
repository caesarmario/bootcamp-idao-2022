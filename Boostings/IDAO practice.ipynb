{
 "cells": [
  {
   "cell_type": "markdown",
   "id": "3f5e636c",
   "metadata": {},
   "source": [
    "# EDA, Classification pipelines and CatBoost\n",
    "\n",
    "In this notebook:\n",
    "\n",
    "* we will do Exploratory Data Analysis\n",
    "* we will train a lot of pipelines to solve classification task\n",
    "* we will use CatBoost option to encode categorical features\n",
    "\n",
    "\n",
    "This dataset contains information on all 802 Pokemon from all Seven Generations of Pokemon. The information contained in this dataset include Base Stats, Performance against Other Types, Height, Weight, Classification, Egg Steps, Experience Points, Abilities, etc. \n",
    "\n",
    "https://www.kaggle.com/rounakbanik/pokemon\n",
    "\n",
    "Is it possible to build a classifier to identify legendary Pokemon?\n",
    "\n",
    "https://www.kaggle.com/ash316/learn-pandas-with-pokemons"
   ]
  },
  {
   "cell_type": "code",
   "execution_count": 1,
   "id": "aed61698",
   "metadata": {
    "ExecuteTime": {
     "end_time": "2021-10-24T20:18:13.375480Z",
     "start_time": "2021-10-24T20:18:12.954646Z"
    }
   },
   "outputs": [],
   "source": [
    "import pandas as pd\n",
    "import numpy as np\n",
    "from matplotlib import pylab as plt\n",
    "import seaborn as sns"
   ]
  },
  {
   "cell_type": "code",
   "execution_count": 2,
   "metadata": {},
   "outputs": [],
   "source": [
    "import warnings\n",
    "warnings.filterwarnings(\"ignore\")"
   ]
  },
  {
   "cell_type": "code",
   "execution_count": 3,
   "id": "29a2c646",
   "metadata": {
    "ExecuteTime": {
     "end_time": "2021-10-24T20:18:13.744445Z",
     "start_time": "2021-10-24T20:18:13.737712Z"
    }
   },
   "outputs": [],
   "source": [
    "data = pd.read_csv('Pokemon.csv')"
   ]
  },
  {
   "cell_type": "code",
   "execution_count": 4,
   "id": "69a8299d",
   "metadata": {
    "ExecuteTime": {
     "end_time": "2021-10-24T20:18:14.174945Z",
     "start_time": "2021-10-24T20:18:14.154295Z"
    }
   },
   "outputs": [
    {
     "data": {
      "text/html": [
       "<div>\n",
       "<style scoped>\n",
       "    .dataframe tbody tr th:only-of-type {\n",
       "        vertical-align: middle;\n",
       "    }\n",
       "\n",
       "    .dataframe tbody tr th {\n",
       "        vertical-align: top;\n",
       "    }\n",
       "\n",
       "    .dataframe thead th {\n",
       "        text-align: right;\n",
       "    }\n",
       "</style>\n",
       "<table border=\"1\" class=\"dataframe\">\n",
       "  <thead>\n",
       "    <tr style=\"text-align: right;\">\n",
       "      <th></th>\n",
       "      <th>#</th>\n",
       "      <th>Name</th>\n",
       "      <th>Type 1</th>\n",
       "      <th>Type 2</th>\n",
       "      <th>Total</th>\n",
       "      <th>HP</th>\n",
       "      <th>Attack</th>\n",
       "      <th>Defense</th>\n",
       "      <th>Sp. Atk</th>\n",
       "      <th>Sp. Def</th>\n",
       "      <th>Speed</th>\n",
       "      <th>Generation</th>\n",
       "      <th>Legendary</th>\n",
       "    </tr>\n",
       "  </thead>\n",
       "  <tbody>\n",
       "    <tr>\n",
       "      <th>0</th>\n",
       "      <td>1</td>\n",
       "      <td>Bulbasaur</td>\n",
       "      <td>Grass</td>\n",
       "      <td>Poison</td>\n",
       "      <td>318</td>\n",
       "      <td>45</td>\n",
       "      <td>49</td>\n",
       "      <td>49</td>\n",
       "      <td>65</td>\n",
       "      <td>65</td>\n",
       "      <td>45</td>\n",
       "      <td>1</td>\n",
       "      <td>False</td>\n",
       "    </tr>\n",
       "    <tr>\n",
       "      <th>1</th>\n",
       "      <td>2</td>\n",
       "      <td>Ivysaur</td>\n",
       "      <td>Grass</td>\n",
       "      <td>Poison</td>\n",
       "      <td>405</td>\n",
       "      <td>60</td>\n",
       "      <td>62</td>\n",
       "      <td>63</td>\n",
       "      <td>80</td>\n",
       "      <td>80</td>\n",
       "      <td>60</td>\n",
       "      <td>1</td>\n",
       "      <td>False</td>\n",
       "    </tr>\n",
       "    <tr>\n",
       "      <th>2</th>\n",
       "      <td>3</td>\n",
       "      <td>Venusaur</td>\n",
       "      <td>Grass</td>\n",
       "      <td>Poison</td>\n",
       "      <td>525</td>\n",
       "      <td>80</td>\n",
       "      <td>82</td>\n",
       "      <td>83</td>\n",
       "      <td>100</td>\n",
       "      <td>100</td>\n",
       "      <td>80</td>\n",
       "      <td>1</td>\n",
       "      <td>False</td>\n",
       "    </tr>\n",
       "    <tr>\n",
       "      <th>3</th>\n",
       "      <td>3</td>\n",
       "      <td>VenusaurMega Venusaur</td>\n",
       "      <td>Grass</td>\n",
       "      <td>Poison</td>\n",
       "      <td>625</td>\n",
       "      <td>80</td>\n",
       "      <td>100</td>\n",
       "      <td>123</td>\n",
       "      <td>122</td>\n",
       "      <td>120</td>\n",
       "      <td>80</td>\n",
       "      <td>1</td>\n",
       "      <td>False</td>\n",
       "    </tr>\n",
       "    <tr>\n",
       "      <th>4</th>\n",
       "      <td>4</td>\n",
       "      <td>Charmander</td>\n",
       "      <td>Fire</td>\n",
       "      <td>NaN</td>\n",
       "      <td>309</td>\n",
       "      <td>39</td>\n",
       "      <td>52</td>\n",
       "      <td>43</td>\n",
       "      <td>60</td>\n",
       "      <td>50</td>\n",
       "      <td>65</td>\n",
       "      <td>1</td>\n",
       "      <td>False</td>\n",
       "    </tr>\n",
       "    <tr>\n",
       "      <th>...</th>\n",
       "      <td>...</td>\n",
       "      <td>...</td>\n",
       "      <td>...</td>\n",
       "      <td>...</td>\n",
       "      <td>...</td>\n",
       "      <td>...</td>\n",
       "      <td>...</td>\n",
       "      <td>...</td>\n",
       "      <td>...</td>\n",
       "      <td>...</td>\n",
       "      <td>...</td>\n",
       "      <td>...</td>\n",
       "      <td>...</td>\n",
       "    </tr>\n",
       "    <tr>\n",
       "      <th>795</th>\n",
       "      <td>719</td>\n",
       "      <td>Diancie</td>\n",
       "      <td>Rock</td>\n",
       "      <td>Fairy</td>\n",
       "      <td>600</td>\n",
       "      <td>50</td>\n",
       "      <td>100</td>\n",
       "      <td>150</td>\n",
       "      <td>100</td>\n",
       "      <td>150</td>\n",
       "      <td>50</td>\n",
       "      <td>6</td>\n",
       "      <td>True</td>\n",
       "    </tr>\n",
       "    <tr>\n",
       "      <th>796</th>\n",
       "      <td>719</td>\n",
       "      <td>DiancieMega Diancie</td>\n",
       "      <td>Rock</td>\n",
       "      <td>Fairy</td>\n",
       "      <td>700</td>\n",
       "      <td>50</td>\n",
       "      <td>160</td>\n",
       "      <td>110</td>\n",
       "      <td>160</td>\n",
       "      <td>110</td>\n",
       "      <td>110</td>\n",
       "      <td>6</td>\n",
       "      <td>True</td>\n",
       "    </tr>\n",
       "    <tr>\n",
       "      <th>797</th>\n",
       "      <td>720</td>\n",
       "      <td>HoopaHoopa Confined</td>\n",
       "      <td>Psychic</td>\n",
       "      <td>Ghost</td>\n",
       "      <td>600</td>\n",
       "      <td>80</td>\n",
       "      <td>110</td>\n",
       "      <td>60</td>\n",
       "      <td>150</td>\n",
       "      <td>130</td>\n",
       "      <td>70</td>\n",
       "      <td>6</td>\n",
       "      <td>True</td>\n",
       "    </tr>\n",
       "    <tr>\n",
       "      <th>798</th>\n",
       "      <td>720</td>\n",
       "      <td>HoopaHoopa Unbound</td>\n",
       "      <td>Psychic</td>\n",
       "      <td>Dark</td>\n",
       "      <td>680</td>\n",
       "      <td>80</td>\n",
       "      <td>160</td>\n",
       "      <td>60</td>\n",
       "      <td>170</td>\n",
       "      <td>130</td>\n",
       "      <td>80</td>\n",
       "      <td>6</td>\n",
       "      <td>True</td>\n",
       "    </tr>\n",
       "    <tr>\n",
       "      <th>799</th>\n",
       "      <td>721</td>\n",
       "      <td>Volcanion</td>\n",
       "      <td>Fire</td>\n",
       "      <td>Water</td>\n",
       "      <td>600</td>\n",
       "      <td>80</td>\n",
       "      <td>110</td>\n",
       "      <td>120</td>\n",
       "      <td>130</td>\n",
       "      <td>90</td>\n",
       "      <td>70</td>\n",
       "      <td>6</td>\n",
       "      <td>True</td>\n",
       "    </tr>\n",
       "  </tbody>\n",
       "</table>\n",
       "<p>800 rows × 13 columns</p>\n",
       "</div>"
      ],
      "text/plain": [
       "       #                   Name   Type 1  Type 2  Total  HP  Attack  Defense  \\\n",
       "0      1              Bulbasaur    Grass  Poison    318  45      49       49   \n",
       "1      2                Ivysaur    Grass  Poison    405  60      62       63   \n",
       "2      3               Venusaur    Grass  Poison    525  80      82       83   \n",
       "3      3  VenusaurMega Venusaur    Grass  Poison    625  80     100      123   \n",
       "4      4             Charmander     Fire     NaN    309  39      52       43   \n",
       "..   ...                    ...      ...     ...    ...  ..     ...      ...   \n",
       "795  719                Diancie     Rock   Fairy    600  50     100      150   \n",
       "796  719    DiancieMega Diancie     Rock   Fairy    700  50     160      110   \n",
       "797  720    HoopaHoopa Confined  Psychic   Ghost    600  80     110       60   \n",
       "798  720     HoopaHoopa Unbound  Psychic    Dark    680  80     160       60   \n",
       "799  721              Volcanion     Fire   Water    600  80     110      120   \n",
       "\n",
       "     Sp. Atk  Sp. Def  Speed  Generation  Legendary  \n",
       "0         65       65     45           1      False  \n",
       "1         80       80     60           1      False  \n",
       "2        100      100     80           1      False  \n",
       "3        122      120     80           1      False  \n",
       "4         60       50     65           1      False  \n",
       "..       ...      ...    ...         ...        ...  \n",
       "795      100      150     50           6       True  \n",
       "796      160      110    110           6       True  \n",
       "797      150      130     70           6       True  \n",
       "798      170      130     80           6       True  \n",
       "799      130       90     70           6       True  \n",
       "\n",
       "[800 rows x 13 columns]"
      ]
     },
     "execution_count": 4,
     "metadata": {},
     "output_type": "execute_result"
    }
   ],
   "source": [
    "data"
   ]
  },
  {
   "cell_type": "markdown",
   "id": "40294270",
   "metadata": {},
   "source": [
    "Columns description (it's crucial!)\n",
    "\n",
    "\n",
    "- #: ID for each pokemon\n",
    "- Name: Name of each pokemon\n",
    "- Type 1: Each pokemon has a type, this determines weakness/resistance to attacks\n",
    "- Type 2: Some pokemon are dual type and have 2\n",
    "- Total: sum of all stats that come after this, a general guide to how strong a pokemon is\n",
    "- HP: hit points, or health, defines how much damage a pokemon can withstand before fainting\n",
    "- Attack: the base modifier for normal attacks (eg. Scratch, Punch)\n",
    "- Defense: the base damage resistance against normal attacks\n",
    "- SP Atk: special attack, the base modifier for special attacks (e.g. fire blast, bubble beam)\n",
    "- SP Def: the base damage resistance against special attacks\n",
    "- Speed: determines which pokemon attacks first each round"
   ]
  },
  {
   "cell_type": "code",
   "execution_count": 5,
   "id": "4a271f5c",
   "metadata": {
    "ExecuteTime": {
     "end_time": "2021-10-24T20:18:18.393785Z",
     "start_time": "2021-10-24T20:18:18.385916Z"
    }
   },
   "outputs": [
    {
     "data": {
      "text/plain": [
       "#               0\n",
       "Name            0\n",
       "Type 1          0\n",
       "Type 2        386\n",
       "Total           0\n",
       "HP              0\n",
       "Attack          0\n",
       "Defense         0\n",
       "Sp. Atk         0\n",
       "Sp. Def         0\n",
       "Speed           0\n",
       "Generation      0\n",
       "Legendary       0\n",
       "dtype: int64"
      ]
     },
     "metadata": {},
     "output_type": "display_data"
    }
   ],
   "source": [
    "# fillna and drop useless cols\n",
    "\n",
    "display(data.isnull().sum())\n",
    "data['Type 2'] = data['Type 2'].fillna('No 2nd type')\n",
    "\n",
    "data.drop(columns=['#', 'Name'], inplace=True)"
   ]
  },
  {
   "cell_type": "code",
   "execution_count": 6,
   "id": "6ce9d92b",
   "metadata": {
    "ExecuteTime": {
     "end_time": "2021-10-24T20:18:19.432056Z",
     "start_time": "2021-10-24T20:18:19.428250Z"
    }
   },
   "outputs": [],
   "source": [
    "X = data.drop(columns='Legendary')\n",
    "y = data['Legendary'].astype('int')"
   ]
  },
  {
   "cell_type": "code",
   "execution_count": 7,
   "id": "91c2b76a",
   "metadata": {
    "ExecuteTime": {
     "end_time": "2021-10-24T20:18:20.023876Z",
     "start_time": "2021-10-24T20:18:20.018390Z"
    }
   },
   "outputs": [
    {
     "data": {
      "text/plain": [
       "0    0.91875\n",
       "1    0.08125\n",
       "Name: Legendary, dtype: float64"
      ]
     },
     "execution_count": 7,
     "metadata": {},
     "output_type": "execute_result"
    }
   ],
   "source": [
    "y.value_counts(normalize=True)"
   ]
  },
  {
   "cell_type": "markdown",
   "metadata": {},
   "source": [
    "# Exploratory Data Analysis\n",
    "\n",
    "* exploratory data analysis (EDA) is used by data scientists to analyze and investigate data sets and summarize their main characteristics, often employing data visualization methods\n",
    "* it helps determine how best to manipulate data sources to get the answers you need, making it easier for data scientists to discover patterns, spot anomalies, test a hypothesis, or check assumptions"
   ]
  },
  {
   "cell_type": "markdown",
   "metadata": {},
   "source": [
    "The attack distribution for the pokemons across all the genarations"
   ]
  },
  {
   "cell_type": "code",
   "execution_count": 8,
   "metadata": {},
   "outputs": [
    {
     "data": {
      "image/png": "[encoded data removed]",
      "text/plain": [
       "<Figure size 432x288 with 1 Axes>"
      ]
     },
     "metadata": {
      "needs_background": "light"
     },
     "output_type": "display_data"
    }
   ],
   "source": [
    "bins = range(0,200,20) #they act as containers\n",
    "plt.hist(data[\"Attack\"],bins,histtype=\"bar\",rwidth=1.2,color='#0ff0ff') #hist() is used to plot a histogram\n",
    "plt.xlabel('Attack') #set the xlabel name\n",
    "plt.ylabel('Count') #set the ylabel name\n",
    "plt.plot()\n",
    "plt.axvline(data['Attack'].mean(),linestyle='dashed',color='red') #draw a vertical line showing the average Attack value\n",
    "plt.show()"
   ]
  },
  {
   "cell_type": "markdown",
   "metadata": {},
   "source": [
    "Above is a Histogram showing the distribution of attacks for the Pokemons. The average value is between 75-77"
   ]
  },
  {
   "cell_type": "markdown",
   "metadata": {},
   "source": [
    "### Fire Vs Water"
   ]
  },
  {
   "cell_type": "code",
   "execution_count": 9,
   "metadata": {},
   "outputs": [
    {
     "data": {
      "image/png": "[encoded data removed]",
      "text/plain": [
       "<Figure size 864x432 with 1 Axes>"
      ]
     },
     "metadata": {
      "needs_background": "light"
     },
     "output_type": "display_data"
    }
   ],
   "source": [
    "fire  = data[(data['Type 1']=='Fire') | ((data['Type 2'])==\"Fire\")] #fire contains all fire pokemons\n",
    "water = data[(data['Type 1']=='Water') | ((data['Type 2'])==\"Water\")]  #all water pokemins\n",
    "plt.scatter(fire.Attack.head(50), fire.Defense.head(50),color='R',label='Fire',marker=\"*\",s=50) #scatter plot\n",
    "plt.scatter(water.Attack.head(50), water.Defense.head(50),color='B',label=\"Water\",s=25)\n",
    "plt.xlabel(\"Attack\")\n",
    "plt.ylabel(\"Defence\")\n",
    "plt.legend()\n",
    "plt.plot()\n",
    "fig=plt.gcf()  #get the current figure using .gcf()\n",
    "fig.set_size_inches(12,6) #set the size for the figure\n",
    "plt.show()"
   ]
  },
  {
   "cell_type": "markdown",
   "metadata": {},
   "source": [
    "This shows that fire type pokemons have a better attack than water type pokemons but have a lower defence than water type."
   ]
  },
  {
   "cell_type": "markdown",
   "metadata": {},
   "source": [
    "### Strongest Pokemons By Types"
   ]
  },
  {
   "cell_type": "code",
   "execution_count": 10,
   "metadata": {},
   "outputs": [
    {
     "data": {
      "text/html": [
       "<div>\n",
       "<style scoped>\n",
       "    .dataframe tbody tr th:only-of-type {\n",
       "        vertical-align: middle;\n",
       "    }\n",
       "\n",
       "    .dataframe tbody tr th {\n",
       "        vertical-align: top;\n",
       "    }\n",
       "\n",
       "    .dataframe thead th {\n",
       "        text-align: right;\n",
       "    }\n",
       "</style>\n",
       "<table border=\"1\" class=\"dataframe\">\n",
       "  <thead>\n",
       "    <tr style=\"text-align: right;\">\n",
       "      <th></th>\n",
       "      <th>Type 1</th>\n",
       "      <th>Type 2</th>\n",
       "      <th>Total</th>\n",
       "      <th>HP</th>\n",
       "      <th>Attack</th>\n",
       "      <th>Defense</th>\n",
       "      <th>Sp. Atk</th>\n",
       "      <th>Sp. Def</th>\n",
       "      <th>Speed</th>\n",
       "      <th>Generation</th>\n",
       "      <th>Legendary</th>\n",
       "    </tr>\n",
       "  </thead>\n",
       "  <tbody>\n",
       "    <tr>\n",
       "      <th>426</th>\n",
       "      <td>Dragon</td>\n",
       "      <td>Flying</td>\n",
       "      <td>780</td>\n",
       "      <td>105</td>\n",
       "      <td>180</td>\n",
       "      <td>100</td>\n",
       "      <td>180</td>\n",
       "      <td>100</td>\n",
       "      <td>115</td>\n",
       "      <td>3</td>\n",
       "      <td>True</td>\n",
       "    </tr>\n",
       "    <tr>\n",
       "      <th>164</th>\n",
       "      <td>Psychic</td>\n",
       "      <td>No 2nd type</td>\n",
       "      <td>780</td>\n",
       "      <td>106</td>\n",
       "      <td>150</td>\n",
       "      <td>70</td>\n",
       "      <td>194</td>\n",
       "      <td>120</td>\n",
       "      <td>140</td>\n",
       "      <td>1</td>\n",
       "      <td>True</td>\n",
       "    </tr>\n",
       "    <tr>\n",
       "      <th>422</th>\n",
       "      <td>Water</td>\n",
       "      <td>No 2nd type</td>\n",
       "      <td>770</td>\n",
       "      <td>100</td>\n",
       "      <td>150</td>\n",
       "      <td>90</td>\n",
       "      <td>180</td>\n",
       "      <td>160</td>\n",
       "      <td>90</td>\n",
       "      <td>3</td>\n",
       "      <td>True</td>\n",
       "    </tr>\n",
       "    <tr>\n",
       "      <th>424</th>\n",
       "      <td>Ground</td>\n",
       "      <td>Fire</td>\n",
       "      <td>770</td>\n",
       "      <td>100</td>\n",
       "      <td>180</td>\n",
       "      <td>160</td>\n",
       "      <td>150</td>\n",
       "      <td>90</td>\n",
       "      <td>90</td>\n",
       "      <td>3</td>\n",
       "      <td>True</td>\n",
       "    </tr>\n",
       "    <tr>\n",
       "      <th>552</th>\n",
       "      <td>Normal</td>\n",
       "      <td>No 2nd type</td>\n",
       "      <td>720</td>\n",
       "      <td>120</td>\n",
       "      <td>120</td>\n",
       "      <td>120</td>\n",
       "      <td>120</td>\n",
       "      <td>120</td>\n",
       "      <td>120</td>\n",
       "      <td>4</td>\n",
       "      <td>True</td>\n",
       "    </tr>\n",
       "    <tr>\n",
       "      <th>413</th>\n",
       "      <td>Steel</td>\n",
       "      <td>Psychic</td>\n",
       "      <td>700</td>\n",
       "      <td>80</td>\n",
       "      <td>145</td>\n",
       "      <td>150</td>\n",
       "      <td>105</td>\n",
       "      <td>110</td>\n",
       "      <td>110</td>\n",
       "      <td>3</td>\n",
       "      <td>False</td>\n",
       "    </tr>\n",
       "    <tr>\n",
       "      <th>268</th>\n",
       "      <td>Rock</td>\n",
       "      <td>Dark</td>\n",
       "      <td>700</td>\n",
       "      <td>100</td>\n",
       "      <td>164</td>\n",
       "      <td>150</td>\n",
       "      <td>95</td>\n",
       "      <td>120</td>\n",
       "      <td>71</td>\n",
       "      <td>2</td>\n",
       "      <td>False</td>\n",
       "    </tr>\n",
       "    <tr>\n",
       "      <th>545</th>\n",
       "      <td>Ghost</td>\n",
       "      <td>Dragon</td>\n",
       "      <td>680</td>\n",
       "      <td>150</td>\n",
       "      <td>120</td>\n",
       "      <td>100</td>\n",
       "      <td>120</td>\n",
       "      <td>100</td>\n",
       "      <td>90</td>\n",
       "      <td>4</td>\n",
       "      <td>True</td>\n",
       "    </tr>\n",
       "    <tr>\n",
       "      <th>270</th>\n",
       "      <td>Fire</td>\n",
       "      <td>Flying</td>\n",
       "      <td>680</td>\n",
       "      <td>106</td>\n",
       "      <td>130</td>\n",
       "      <td>90</td>\n",
       "      <td>110</td>\n",
       "      <td>154</td>\n",
       "      <td>90</td>\n",
       "      <td>2</td>\n",
       "      <td>True</td>\n",
       "    </tr>\n",
       "    <tr>\n",
       "      <th>792</th>\n",
       "      <td>Fairy</td>\n",
       "      <td>No 2nd type</td>\n",
       "      <td>680</td>\n",
       "      <td>126</td>\n",
       "      <td>131</td>\n",
       "      <td>95</td>\n",
       "      <td>131</td>\n",
       "      <td>98</td>\n",
       "      <td>99</td>\n",
       "      <td>6</td>\n",
       "      <td>True</td>\n",
       "    </tr>\n",
       "    <tr>\n",
       "      <th>793</th>\n",
       "      <td>Dark</td>\n",
       "      <td>Flying</td>\n",
       "      <td>680</td>\n",
       "      <td>126</td>\n",
       "      <td>131</td>\n",
       "      <td>95</td>\n",
       "      <td>131</td>\n",
       "      <td>98</td>\n",
       "      <td>99</td>\n",
       "      <td>6</td>\n",
       "      <td>True</td>\n",
       "    </tr>\n",
       "    <tr>\n",
       "      <th>275</th>\n",
       "      <td>Grass</td>\n",
       "      <td>Dragon</td>\n",
       "      <td>630</td>\n",
       "      <td>70</td>\n",
       "      <td>110</td>\n",
       "      <td>75</td>\n",
       "      <td>145</td>\n",
       "      <td>85</td>\n",
       "      <td>145</td>\n",
       "      <td>3</td>\n",
       "      <td>False</td>\n",
       "    </tr>\n",
       "    <tr>\n",
       "      <th>498</th>\n",
       "      <td>Fighting</td>\n",
       "      <td>Steel</td>\n",
       "      <td>625</td>\n",
       "      <td>70</td>\n",
       "      <td>145</td>\n",
       "      <td>88</td>\n",
       "      <td>140</td>\n",
       "      <td>70</td>\n",
       "      <td>112</td>\n",
       "      <td>4</td>\n",
       "      <td>False</td>\n",
       "    </tr>\n",
       "    <tr>\n",
       "      <th>196</th>\n",
       "      <td>Electric</td>\n",
       "      <td>Dragon</td>\n",
       "      <td>610</td>\n",
       "      <td>90</td>\n",
       "      <td>95</td>\n",
       "      <td>105</td>\n",
       "      <td>165</td>\n",
       "      <td>110</td>\n",
       "      <td>45</td>\n",
       "      <td>2</td>\n",
       "      <td>False</td>\n",
       "    </tr>\n",
       "    <tr>\n",
       "      <th>229</th>\n",
       "      <td>Bug</td>\n",
       "      <td>Steel</td>\n",
       "      <td>600</td>\n",
       "      <td>70</td>\n",
       "      <td>150</td>\n",
       "      <td>140</td>\n",
       "      <td>65</td>\n",
       "      <td>100</td>\n",
       "      <td>75</td>\n",
       "      <td>2</td>\n",
       "      <td>False</td>\n",
       "    </tr>\n",
       "    <tr>\n",
       "      <th>397</th>\n",
       "      <td>Ice</td>\n",
       "      <td>No 2nd type</td>\n",
       "      <td>580</td>\n",
       "      <td>80</td>\n",
       "      <td>120</td>\n",
       "      <td>80</td>\n",
       "      <td>120</td>\n",
       "      <td>80</td>\n",
       "      <td>100</td>\n",
       "      <td>3</td>\n",
       "      <td>False</td>\n",
       "    </tr>\n",
       "    <tr>\n",
       "      <th>703</th>\n",
       "      <td>Flying</td>\n",
       "      <td>No 2nd type</td>\n",
       "      <td>580</td>\n",
       "      <td>79</td>\n",
       "      <td>100</td>\n",
       "      <td>80</td>\n",
       "      <td>110</td>\n",
       "      <td>90</td>\n",
       "      <td>121</td>\n",
       "      <td>5</td>\n",
       "      <td>True</td>\n",
       "    </tr>\n",
       "    <tr>\n",
       "      <th>183</th>\n",
       "      <td>Poison</td>\n",
       "      <td>Flying</td>\n",
       "      <td>535</td>\n",
       "      <td>85</td>\n",
       "      <td>90</td>\n",
       "      <td>80</td>\n",
       "      <td>70</td>\n",
       "      <td>80</td>\n",
       "      <td>130</td>\n",
       "      <td>2</td>\n",
       "      <td>False</td>\n",
       "    </tr>\n",
       "  </tbody>\n",
       "</table>\n",
       "</div>"
      ],
      "text/plain": [
       "       Type 1       Type 2  Total   HP  Attack  Defense  Sp. Atk  Sp. Def  \\\n",
       "426    Dragon       Flying    780  105     180      100      180      100   \n",
       "164   Psychic  No 2nd type    780  106     150       70      194      120   \n",
       "422     Water  No 2nd type    770  100     150       90      180      160   \n",
       "424    Ground         Fire    770  100     180      160      150       90   \n",
       "552    Normal  No 2nd type    720  120     120      120      120      120   \n",
       "413     Steel      Psychic    700   80     145      150      105      110   \n",
       "268      Rock         Dark    700  100     164      150       95      120   \n",
       "545     Ghost       Dragon    680  150     120      100      120      100   \n",
       "270      Fire       Flying    680  106     130       90      110      154   \n",
       "792     Fairy  No 2nd type    680  126     131       95      131       98   \n",
       "793      Dark       Flying    680  126     131       95      131       98   \n",
       "275     Grass       Dragon    630   70     110       75      145       85   \n",
       "498  Fighting        Steel    625   70     145       88      140       70   \n",
       "196  Electric       Dragon    610   90      95      105      165      110   \n",
       "229       Bug        Steel    600   70     150      140       65      100   \n",
       "397       Ice  No 2nd type    580   80     120       80      120       80   \n",
       "703    Flying  No 2nd type    580   79     100       80      110       90   \n",
       "183    Poison       Flying    535   85      90       80       70       80   \n",
       "\n",
       "     Speed  Generation  Legendary  \n",
       "426    115           3       True  \n",
       "164    140           1       True  \n",
       "422     90           3       True  \n",
       "424     90           3       True  \n",
       "552    120           4       True  \n",
       "413    110           3      False  \n",
       "268     71           2      False  \n",
       "545     90           4       True  \n",
       "270     90           2       True  \n",
       "792     99           6       True  \n",
       "793     99           6       True  \n",
       "275    145           3      False  \n",
       "498    112           4      False  \n",
       "196     45           2      False  \n",
       "229     75           2      False  \n",
       "397    100           3      False  \n",
       "703    121           5       True  \n",
       "183    130           2      False  "
      ]
     },
     "execution_count": 10,
     "metadata": {},
     "output_type": "execute_result"
    }
   ],
   "source": [
    "strong = data.sort_values(by='Total', ascending=False) #sorting the rows in descending order\n",
    "strong.drop_duplicates(subset=['Type 1'],keep='first') #since the rows are now sorted in descending oredr\n",
    "#thus we take the first row for every new type of pokemon i.e the table will check TYPE 1 of every pokemon\n",
    "#The first pokemon of that type is the strongest for that type\n",
    "#so we just keep the first row"
   ]
  },
  {
   "cell_type": "markdown",
   "metadata": {},
   "source": [
    "### Distribution of various pokemon types"
   ]
  },
  {
   "cell_type": "code",
   "execution_count": 11,
   "metadata": {},
   "outputs": [
    {
     "data": {
      "text/plain": [
       "Water       112\n",
       "Normal       98\n",
       "Grass        70\n",
       "Bug          69\n",
       "Psychic      57\n",
       "Fire         52\n",
       "Rock         44\n",
       "Electric     44\n",
       "Ground       32\n",
       "Ghost        32\n",
       "Dragon       32\n",
       "Dark         31\n",
       "Poison       28\n",
       "Steel        27\n",
       "Fighting     27\n",
       "Ice          24\n",
       "Fairy        17\n",
       "Flying        4\n",
       "Name: Type 1, dtype: int64"
      ]
     },
     "execution_count": 11,
     "metadata": {},
     "output_type": "execute_result"
    }
   ],
   "source": [
    "types_1 = data['Type 1'].value_counts()\n",
    "types_1"
   ]
  },
  {
   "cell_type": "code",
   "execution_count": 12,
   "metadata": {},
   "outputs": [
    {
     "data": {
      "image/png": "[encoded data removed]",
      "text/plain": [
       "<Figure size 576x576 with 1 Axes>"
      ]
     },
     "metadata": {},
     "output_type": "display_data"
    }
   ],
   "source": [
    "labels = types_1.index[:7]\n",
    "sizes = types_1.values[:7]\n",
    "\n",
    "explode = np.zeros(len(labels))\n",
    "explode[2] = 0.1\n",
    "\n",
    "plt.figure(figsize=(8,8))\n",
    "plt.pie(sizes, explode=explode, labels=labels, autopct='%1.1f%%')\n",
    "plt.axis('equal')\n",
    "plt.title(\"Percentage of Different Types of Pokemon\")\n",
    "plt.plot()\n",
    "plt.show()"
   ]
  },
  {
   "cell_type": "markdown",
   "metadata": {},
   "source": [
    "### Stats analysis of the pokemons"
   ]
  },
  {
   "cell_type": "code",
   "execution_count": 13,
   "metadata": {},
   "outputs": [
    {
     "data": {
      "image/png": "[encoded data removed]",
      "text/plain": [
       "<Figure size 1080x360 with 1 Axes>"
      ]
     },
     "metadata": {
      "needs_background": "light"
     },
     "output_type": "display_data"
    }
   ],
   "source": [
    "plt.subplots(figsize = (15,5))\n",
    "plt.title('Attack by Type1')\n",
    "sns.boxplot(x = \"Type 1\", y = \"Attack\",data = data)\n",
    "plt.ylim(0,200)\n",
    "plt.show()"
   ]
  },
  {
   "cell_type": "markdown",
   "metadata": {},
   "source": [
    "This shows that the Dragon type pokemons have an edge over the other types as they have a higher attacks compared to the other types. Also since the fire pokemons have lower range of values, but higher attacks, they can be preferred over the grass and water types for attacking."
   ]
  },
  {
   "cell_type": "code",
   "execution_count": 14,
   "metadata": {},
   "outputs": [
    {
     "data": {
      "image/png": "[encoded data removed]",
      "text/plain": [
       "<Figure size 1080x360 with 1 Axes>"
      ]
     },
     "metadata": {
      "needs_background": "light"
     },
     "output_type": "display_data"
    }
   ],
   "source": [
    "plt.subplots(figsize = (15,5))\n",
    "plt.title('Defence by Type')\n",
    "sns.boxplot(x = \"Type 1\", y = \"Defense\",data = data)\n",
    "plt.show()"
   ]
  },
  {
   "cell_type": "markdown",
   "metadata": {},
   "source": [
    "This shows that steel type pokemons have the highest defence but normal type pokemons have the lowest defence"
   ]
  },
  {
   "cell_type": "markdown",
   "metadata": {},
   "source": [
    "### Let's analyze generations"
   ]
  },
  {
   "cell_type": "code",
   "execution_count": 15,
   "metadata": {},
   "outputs": [
    {
     "data": {
      "image/png": "[encoded data removed]",
      "text/plain": [
       "<Figure size 1080x360 with 1 Axes>"
      ]
     },
     "metadata": {
      "needs_background": "light"
     },
     "output_type": "display_data"
    }
   ],
   "source": [
    "plt.subplots(figsize = (15,5))\n",
    "plt.title('Strongest Genaration')\n",
    "sns.violinplot(x = \"Generation\", y = \"Total\",data = data)\n",
    "plt.show()"
   ]
  },
  {
   "cell_type": "markdown",
   "metadata": {},
   "source": [
    "This shows that generation 3 has the better pokemons"
   ]
  },
  {
   "cell_type": "markdown",
   "metadata": {},
   "source": [
    "### Finding any Correlation between the attributes"
   ]
  },
  {
   "cell_type": "code",
   "execution_count": 16,
   "metadata": {},
   "outputs": [
    {
     "data": {
      "image/png": "[encoded data removed]",
      "text/plain": [
       "<Figure size 720x432 with 2 Axes>"
      ]
     },
     "metadata": {
      "needs_background": "light"
     },
     "output_type": "display_data"
    }
   ],
   "source": [
    "plt.figure(figsize=(10,6)) #manage the size of the plot\n",
    "sns.heatmap(data.corr(),annot=True) #df.corr() makes a correlation matrix and sns.heatmap is used to show the correlations heatmap\n",
    "plt.show()"
   ]
  },
  {
   "cell_type": "markdown",
   "metadata": {},
   "source": [
    "From the heatmap it can be seen that there is not much correlation between the attributes of the pokemons. The highest we can see is the correlation between Sp.Atk and the Total"
   ]
  },
  {
   "cell_type": "markdown",
   "id": "42ef3b76",
   "metadata": {},
   "source": [
    "# Make some default pipeline\n",
    "\n",
    "*The Pipeline constructor from sklearn allows you to chain transformers and estimators together into a sequence that functions as one cohesive unit.* For example, if your model involves feature selection, standardization, and then regression, those three steps, each as it's own class, could be encapsulated together via Pipeline.\n",
    "\n",
    "In our baseline (simple pipeline) we will take the following steps:\n",
    "\n",
    "* encode categorical data via OneHotEncoding\n",
    "* normalize data (scale data) \n",
    "* apply simple linear classification model"
   ]
  },
  {
   "cell_type": "code",
   "execution_count": 17,
   "id": "d3fbc11e",
   "metadata": {
    "ExecuteTime": {
     "end_time": "2021-10-24T20:18:25.238240Z",
     "start_time": "2021-10-24T20:18:24.565781Z"
    }
   },
   "outputs": [],
   "source": [
    "from sklearn.pipeline import Pipeline\n",
    "from category_encoders.one_hot import OneHotEncoder\n",
    "from sklearn.preprocessing import StandardScaler\n",
    "from sklearn.linear_model import LogisticRegression\n",
    "from sklearn.model_selection import cross_validate"
   ]
  },
  {
   "cell_type": "code",
   "execution_count": 18,
   "id": "db4dc8a2",
   "metadata": {
    "ExecuteTime": {
     "end_time": "2021-10-24T20:18:25.243494Z",
     "start_time": "2021-10-24T20:18:25.240399Z"
    }
   },
   "outputs": [],
   "source": [
    "# define cat_cols\n",
    "\n",
    "cat_cols = ['Type 1', 'Type 2']\n",
    "\n",
    "default_pipeline = Pipeline([\n",
    "    ('cat_encoder_', OneHotEncoder(cols=cat_cols)),\n",
    "    ('scaler_', StandardScaler()),\n",
    "    ('model_', LogisticRegression())]\n",
    ")"
   ]
  },
  {
   "cell_type": "code",
   "execution_count": 19,
   "id": "0388c711",
   "metadata": {
    "ExecuteTime": {
     "end_time": "2021-10-24T20:18:31.094311Z",
     "start_time": "2021-10-24T20:18:30.089861Z"
    }
   },
   "outputs": [],
   "source": [
    "cv_res1 = cross_validate(default_pipeline,\n",
    "                        X,\n",
    "                        y,\n",
    "                        cv=5,\n",
    "                        scoring='f1',\n",
    "                        n_jobs=-1,\n",
    "                        return_train_score=True\n",
    "                       )"
   ]
  },
  {
   "cell_type": "code",
   "execution_count": 20,
   "id": "cdf1fdc0",
   "metadata": {
    "ExecuteTime": {
     "end_time": "2021-10-24T20:19:02.086505Z",
     "start_time": "2021-10-24T20:19:02.082394Z"
    }
   },
   "outputs": [
    {
     "data": {
      "text/plain": [
       "0.44874141876430207"
      ]
     },
     "execution_count": 20,
     "metadata": {},
     "output_type": "execute_result"
    }
   ],
   "source": [
    "cv_res1['test_score'].mean()"
   ]
  },
  {
   "cell_type": "markdown",
   "id": "417004bb",
   "metadata": {},
   "source": [
    "# Make pipeline more complicated\n",
    "\n",
    "Ways to do it:\n",
    "\n",
    "1) **Apply other categorical encoder**:\n",
    "\n",
    "    * LeaveOneOutEncoder\n",
    "    \n",
    "    * TargetEncoder\n",
    "    \n",
    "    * WOEEncoder\n",
    "    \n",
    "    etc. https://contrib.scikit-learn.org/category_encoders/\n",
    "  \n",
    "2) **Create new features**, for example, using PolynomialFeatures of a certain degree.\n",
    "\n",
    "3) **Select important features from new high-dimensional feature space**:\n",
    "\n",
    "    * Univariate feature selection\n",
    "    \n",
    "    * Recursive feature elimination\n",
    "    \n",
    "    * Model-based feature selection\n",
    "    \n",
    "4) **Try different models**:\n",
    "\n",
    "    * Linear models: SVM, LogisticRegression\n",
    "    \n",
    "    * Non-linear models: KNN, DecisionTree\n",
    "    \n",
    "    * Ensembles: RandomForest, GradientBoosting (CatBoost)"
   ]
  },
  {
   "cell_type": "code",
   "execution_count": 21,
   "metadata": {},
   "outputs": [],
   "source": [
    "from category_encoders.leave_one_out import LeaveOneOutEncoder\n",
    "from category_encoders import TargetEncoder, WOEEncoder, MEstimateEncoder"
   ]
  },
  {
   "cell_type": "markdown",
   "metadata": {},
   "source": [
    "Let's try different categorical encoders."
   ]
  },
  {
   "cell_type": "code",
   "execution_count": 22,
   "id": "cc502d0e",
   "metadata": {
    "ExecuteTime": {
     "end_time": "2021-10-24T20:19:08.097819Z",
     "start_time": "2021-10-24T20:19:08.094458Z"
    }
   },
   "outputs": [
    {
     "name": "stdout",
     "output_type": "stream",
     "text": [
      "OneHotEncoder 0.44874141876430207\n",
      "LeaveOneOutEncoder 0.5903571428571428\n",
      "WOEEncoder 0.5639359108324625\n",
      "MEstimateEncoder 0.5432083973374296\n"
     ]
    }
   ],
   "source": [
    "for encoder in [OneHotEncoder, LeaveOneOutEncoder, WOEEncoder, MEstimateEncoder]:\n",
    "    \n",
    "    pipe_dif = Pipeline([\n",
    "        ('cat_encoder_', encoder(cols=cat_cols)),\n",
    "        ('scaler_', StandardScaler()),\n",
    "        ('model_', LogisticRegression())]\n",
    "    )\n",
    "\n",
    "    cv_res2 = cross_validate(pipe_dif,\n",
    "                            X,\n",
    "                            y,\n",
    "                            cv=5,\n",
    "                            scoring='f1',\n",
    "                            n_jobs=-1,\n",
    "                            return_train_score=True\n",
    "                           )\n",
    "\n",
    "    print(encoder.__name__, cv_res2['test_score'].mean())"
   ]
  },
  {
   "cell_type": "markdown",
   "metadata": {},
   "source": [
    "Let's add polynomial features.\n",
    "\n",
    "We will use LeaveOneOutEncoder since it gives us the best score."
   ]
  },
  {
   "cell_type": "code",
   "execution_count": 23,
   "metadata": {},
   "outputs": [],
   "source": [
    "from sklearn.preprocessing import PolynomialFeatures"
   ]
  },
  {
   "cell_type": "code",
   "execution_count": 24,
   "metadata": {},
   "outputs": [
    {
     "name": "stdout",
     "output_type": "stream",
     "text": [
      "train_score: 0.9454213660937036\n",
      "test_score: 0.6098689981042922\n"
     ]
    }
   ],
   "source": [
    "pipe_poly = Pipeline([\n",
    "    ('cat_encoder_', LeaveOneOutEncoder(cols=cat_cols)),\n",
    "    ('poly_featurizer_', PolynomialFeatures(degree=4)),\n",
    "    ('scaler_', StandardScaler()),\n",
    "    ('model_', LogisticRegression())]\n",
    ")\n",
    "\n",
    "cv_res3 = cross_validate(pipe_poly,\n",
    "                        X,\n",
    "                        y,\n",
    "                        cv=5,\n",
    "                        scoring='f1',\n",
    "                        n_jobs=-1,\n",
    "                        return_train_score=True\n",
    "                       )\n",
    "\n",
    "print('train_score:', cv_res3['train_score'].mean())\n",
    "print('test_score:', cv_res3['test_score'].mean())"
   ]
  },
  {
   "cell_type": "markdown",
   "id": "e894cf72",
   "metadata": {
    "ExecuteTime": {
     "end_time": "2021-10-24T13:09:24.240561Z",
     "start_time": "2021-10-24T13:09:24.235947Z"
    }
   },
   "source": [
    "Well, the test score increased... But we have an overfitted model!"
   ]
  },
  {
   "cell_type": "markdown",
   "id": "a13e9e9b",
   "metadata": {},
   "source": [
    "# Apply feature selectors"
   ]
  },
  {
   "cell_type": "code",
   "execution_count": 29,
   "metadata": {},
   "outputs": [],
   "source": [
    "from sklearn.feature_selection import SelectKBest"
   ]
  },
  {
   "cell_type": "code",
   "execution_count": 30,
   "id": "51585f4e",
   "metadata": {
    "ExecuteTime": {
     "end_time": "2021-10-24T20:19:41.314430Z",
     "start_time": "2021-10-24T20:19:41.311959Z"
    }
   },
   "outputs": [],
   "source": [
    "data_tr = pipe_poly[:-1]"
   ]
  },
  {
   "cell_type": "code",
   "execution_count": 31,
   "id": "9a667395",
   "metadata": {
    "ExecuteTime": {
     "end_time": "2021-10-24T20:19:41.681665Z",
     "start_time": "2021-10-24T20:19:41.675526Z"
    }
   },
   "outputs": [
    {
     "data": {
      "text/plain": [
       "Pipeline(steps=[('cat_encoder_', LeaveOneOutEncoder(cols=['Type 1', 'Type 2'])),\n",
       "                ('poly_featurizer_', PolynomialFeatures(degree=4)),\n",
       "                ('scaler_', StandardScaler())])"
      ]
     },
     "execution_count": 31,
     "metadata": {},
     "output_type": "execute_result"
    }
   ],
   "source": [
    "data_tr"
   ]
  },
  {
   "cell_type": "code",
   "execution_count": 32,
   "id": "0703abb4",
   "metadata": {
    "ExecuteTime": {
     "end_time": "2021-10-24T20:19:42.141996Z",
     "start_time": "2021-10-24T20:19:42.095336Z"
    }
   },
   "outputs": [
    {
     "name": "stdout",
     "output_type": "stream",
     "text": [
      "data shape after transformation is (800, 1001)\n"
     ]
    }
   ],
   "source": [
    "X_tr = data_tr.fit_transform(X, y)\n",
    "print(f'data shape after transformation is {X_tr.shape}')"
   ]
  },
  {
   "cell_type": "markdown",
   "id": "5e8cf9f1",
   "metadata": {},
   "source": [
    "We have a lot of features, that's why we overfit! Let's now select some important features."
   ]
  },
  {
   "cell_type": "markdown",
   "id": "940c6af8",
   "metadata": {},
   "source": [
    "## Фильтрационные методы\n",
    "\n",
    "Суть таких методов в том, чтобы для каждого признака посчитать некоторую метрику \"связи\" с целевым признаком. И в результате оставить топ-K признаков согласно выбранной метрике.\n",
    "\n",
    "В том числе на лекции обсуждались:\n",
    "\n",
    " - статистика хи-квадрат\n",
    " - метрика mutual information"
   ]
  },
  {
   "cell_type": "code",
   "execution_count": 33,
   "id": "add09679",
   "metadata": {
    "ExecuteTime": {
     "end_time": "2021-10-24T20:19:58.410888Z",
     "start_time": "2021-10-24T20:19:58.408446Z"
    }
   },
   "outputs": [],
   "source": [
    "from sklearn.feature_selection import f_classif, chi2, mutual_info_classif"
   ]
  },
  {
   "cell_type": "code",
   "execution_count": 59,
   "id": "fc62b4b6",
   "metadata": {
    "ExecuteTime": {
     "end_time": "2021-10-24T20:20:00.536469Z",
     "start_time": "2021-10-24T20:20:00.532952Z"
    }
   },
   "outputs": [],
   "source": [
    "k_best = 20\n",
    "# it's a random choice for demonstration only, but we need to choose k_best via GridSearch.\n",
    "\n",
    "pipe = Pipeline([\n",
    "    ('cat_encoder_', LeaveOneOutEncoder(cols=cat_cols)),\n",
    "    ('poly_featurizer_', PolynomialFeatures(degree=4)),\n",
    "    ('scaler_', StandardScaler()),\n",
    "    ('selector_', SelectKBest(score_func=mutual_info_classif, k=k_best)), \n",
    "    ('model_', LogisticRegression())]\n",
    ")"
   ]
  },
  {
   "cell_type": "code",
   "execution_count": 60,
   "id": "420e6db9",
   "metadata": {
    "ExecuteTime": {
     "end_time": "2021-10-24T20:20:18.022535Z",
     "start_time": "2021-10-24T20:20:06.144920Z"
    }
   },
   "outputs": [
    {
     "data": {
      "text/plain": [
       "0.5186381357433989"
      ]
     },
     "execution_count": 60,
     "metadata": {},
     "output_type": "execute_result"
    }
   ],
   "source": [
    "cv_res = cross_validate(pipe, X, y, cv=5, scoring='f1', return_train_score=True)\n",
    "cv_res\n",
    "\n",
    "cv_res['test_score'].mean()"
   ]
  },
  {
   "cell_type": "markdown",
   "id": "96bee3cd",
   "metadata": {},
   "source": [
    "## Жадный метод отбора"
   ]
  },
  {
   "cell_type": "code",
   "execution_count": 61,
   "id": "35170f0e",
   "metadata": {
    "ExecuteTime": {
     "end_time": "2021-10-24T20:20:53.902156Z",
     "start_time": "2021-10-24T20:20:53.899723Z"
    }
   },
   "outputs": [],
   "source": [
    "from sklearn.feature_selection import RFE\n",
    "from sklearn.linear_model import LogisticRegression"
   ]
  },
  {
   "cell_type": "code",
   "execution_count": 62,
   "id": "da1779fa",
   "metadata": {
    "ExecuteTime": {
     "end_time": "2021-10-24T20:25:10.673925Z",
     "start_time": "2021-10-24T20:25:10.671185Z"
    }
   },
   "outputs": [],
   "source": [
    "rfe = RFE(LogisticRegression(max_iter=1000), n_features_to_select=k_best, step=30)"
   ]
  },
  {
   "cell_type": "code",
   "execution_count": 63,
   "id": "e611b87e",
   "metadata": {
    "ExecuteTime": {
     "end_time": "2021-10-24T20:25:12.544188Z",
     "start_time": "2021-10-24T20:25:12.540659Z"
    }
   },
   "outputs": [
    {
     "data": {
      "text/plain": [
       "(800, 1001)"
      ]
     },
     "execution_count": 63,
     "metadata": {},
     "output_type": "execute_result"
    }
   ],
   "source": [
    "X_tr.shape"
   ]
  },
  {
   "cell_type": "code",
   "execution_count": 64,
   "id": "94f72041",
   "metadata": {
    "ExecuteTime": {
     "end_time": "2021-10-24T20:25:35.091025Z",
     "start_time": "2021-10-24T20:25:32.892926Z"
    }
   },
   "outputs": [
    {
     "data": {
      "text/plain": [
       "(800, 20)"
      ]
     },
     "metadata": {},
     "output_type": "display_data"
    }
   ],
   "source": [
    "res = rfe.fit_transform(X_tr, y)\n",
    "display(res.shape)"
   ]
  },
  {
   "cell_type": "code",
   "execution_count": 65,
   "id": "86480235",
   "metadata": {
    "ExecuteTime": {
     "end_time": "2021-10-24T20:27:58.635555Z",
     "start_time": "2021-10-24T20:27:58.632190Z"
    }
   },
   "outputs": [],
   "source": [
    "pipe_rfe = Pipeline([\n",
    "    ('cat_encoder_', LeaveOneOutEncoder(cols=cat_cols)),\n",
    "    ('poly_featurizer_', PolynomialFeatures(degree=4)),\n",
    "    ('scaler_', StandardScaler()),\n",
    "    ('selector_', RFE(LogisticRegression(max_iter=1000),\n",
    "                      n_features_to_select=k_best,\n",
    "                      step=30\n",
    "                     )), \n",
    "    ('model_', LogisticRegression())])"
   ]
  },
  {
   "cell_type": "code",
   "execution_count": 66,
   "id": "b79dde57",
   "metadata": {
    "ExecuteTime": {
     "end_time": "2021-10-24T20:28:32.410710Z",
     "start_time": "2021-10-24T20:28:22.819441Z"
    }
   },
   "outputs": [
    {
     "data": {
      "text/plain": [
       "0.6254010695187165"
      ]
     },
     "execution_count": 66,
     "metadata": {},
     "output_type": "execute_result"
    }
   ],
   "source": [
    "cv_res3 = cross_validate(pipe_rfe, X, y, cv=5, scoring='f1', return_train_score=True)\n",
    "cv_res3['test_score'].mean()"
   ]
  },
  {
   "cell_type": "markdown",
   "id": "49984ba9",
   "metadata": {},
   "source": [
    "## С помощью L1 регуляризации"
   ]
  },
  {
   "cell_type": "code",
   "execution_count": 67,
   "id": "0549efa7",
   "metadata": {
    "ExecuteTime": {
     "end_time": "2021-10-24T20:21:04.267409Z",
     "start_time": "2021-10-24T20:21:04.265012Z"
    }
   },
   "outputs": [],
   "source": [
    "from sklearn.feature_selection import SelectFromModel"
   ]
  },
  {
   "cell_type": "code",
   "execution_count": 68,
   "id": "3e8f05f6",
   "metadata": {
    "ExecuteTime": {
     "end_time": "2021-10-24T20:21:05.214768Z",
     "start_time": "2021-10-24T20:21:05.212084Z"
    }
   },
   "outputs": [],
   "source": [
    "sel = SelectFromModel(LogisticRegression(penalty='l1', max_iter=1000, solver='liblinear'), threshold=1e-5)"
   ]
  },
  {
   "cell_type": "code",
   "execution_count": 69,
   "id": "ad74ab5f",
   "metadata": {
    "ExecuteTime": {
     "end_time": "2021-10-24T20:21:06.595072Z",
     "start_time": "2021-10-24T20:21:06.468695Z"
    }
   },
   "outputs": [
    {
     "data": {
      "text/plain": [
       "(800, 49)"
      ]
     },
     "metadata": {},
     "output_type": "display_data"
    }
   ],
   "source": [
    "# пример\n",
    "\n",
    "res = sel.fit_transform(X_tr, y)\n",
    "display(res.shape)"
   ]
  },
  {
   "cell_type": "code",
   "execution_count": 70,
   "id": "ea36b3e7",
   "metadata": {
    "ExecuteTime": {
     "end_time": "2021-10-24T20:21:07.682619Z",
     "start_time": "2021-10-24T20:21:07.679172Z"
    }
   },
   "outputs": [],
   "source": [
    "pipe_lasso =  Pipeline([\n",
    "    ('cat_encoder_', LeaveOneOutEncoder(cols=cat_cols)),\n",
    "    ('poly_featurizer_', PolynomialFeatures(degree=4)),\n",
    "    ('scaler_', StandardScaler()),\n",
    "    ('selector_', SelectFromModel(LogisticRegression(penalty='l1', max_iter=1000, solver='liblinear'), \n",
    "                                  threshold=1e-5)), \n",
    "    ('model_', LogisticRegression())])"
   ]
  },
  {
   "cell_type": "code",
   "execution_count": 71,
   "id": "d64eefd9",
   "metadata": {
    "ExecuteTime": {
     "end_time": "2021-10-24T20:21:11.587486Z",
     "start_time": "2021-10-24T20:21:11.070842Z"
    }
   },
   "outputs": [
    {
     "data": {
      "text/plain": [
       "0.6355895085306849"
      ]
     },
     "execution_count": 71,
     "metadata": {},
     "output_type": "execute_result"
    }
   ],
   "source": [
    "cv_res4 = cross_validate(pipe_lasso, X, y, cv=5, scoring='f1', return_train_score=True)\n",
    "cv_res4['test_score'].mean()"
   ]
  },
  {
   "cell_type": "markdown",
   "id": "a862a8fc",
   "metadata": {},
   "source": [
    "# PCA или метод главных компонент"
   ]
  },
  {
   "cell_type": "markdown",
   "id": "e588a79f",
   "metadata": {},
   "source": [
    "Цель: создать k новых признаков из какого-либо количества старых признаков, так чтобы \n",
    "- каждый из новых признаков был линейной комбинацией старых\n",
    "\n",
    "$z_i = u_1x_{1i} + ... + u_lx{li}$\n",
    "\n",
    "- и дисперсия $z_i$, то есть новых признаков была максимальной (наиболее информативной)"
   ]
  },
  {
   "cell_type": "code",
   "execution_count": 94,
   "id": "673eef9e",
   "metadata": {
    "ExecuteTime": {
     "end_time": "2021-10-24T20:21:43.048343Z",
     "start_time": "2021-10-24T20:21:43.045905Z"
    }
   },
   "outputs": [],
   "source": [
    "from sklearn.decomposition import PCA"
   ]
  },
  {
   "cell_type": "code",
   "execution_count": 95,
   "id": "9d2d7f4c",
   "metadata": {
    "ExecuteTime": {
     "end_time": "2021-10-24T20:21:43.917246Z",
     "start_time": "2021-10-24T20:21:43.914910Z"
    }
   },
   "outputs": [
    {
     "data": {
      "text/plain": [
       "(800, 5)"
      ]
     },
     "metadata": {},
     "output_type": "display_data"
    }
   ],
   "source": [
    "# пример\n",
    "\n",
    "pca = PCA(n_components = 5)\n",
    "\n",
    "res = pca.fit_transform(X_tr, y)\n",
    "display(res.shape)"
   ]
  },
  {
   "cell_type": "code",
   "execution_count": 96,
   "id": "21c5d39a",
   "metadata": {
    "ExecuteTime": {
     "end_time": "2021-10-24T20:22:54.348959Z",
     "start_time": "2021-10-24T20:22:53.763054Z"
    }
   },
   "outputs": [
    {
     "data": {
      "text/plain": [
       "0.5643967932000387"
      ]
     },
     "execution_count": 96,
     "metadata": {},
     "output_type": "execute_result"
    }
   ],
   "source": [
    "n_components = 5\n",
    "\n",
    "pipe_pca = Pipeline([\n",
    "    ('cat_encoder_', LeaveOneOutEncoder(cols=cat_cols)),\n",
    "    ('poly_featurizer_', PolynomialFeatures(degree=4)),\n",
    "    ('scaler_', StandardScaler()),\n",
    "    ('selector_', PCA(n_components=n_components)), \n",
    "    ('model_', LogisticRegression())])\n",
    "\n",
    "cv_res5 = cross_validate(pipe_pca, X, y, cv=5, scoring='f1', return_train_score=True)\n",
    "cv_res5['test_score'].mean()"
   ]
  },
  {
   "cell_type": "markdown",
   "metadata": {},
   "source": [
    "Let's try other models.\n",
    "\n",
    "* we will select LeaveOneOutEncoder since it is the best option\n",
    "* we will select SelectFromModel for feature selection for the same reasons"
   ]
  },
  {
   "cell_type": "code",
   "execution_count": 98,
   "metadata": {},
   "outputs": [
    {
     "name": "stdout",
     "output_type": "stream",
     "text": [
      "SVC(kernel='linear') 0.6452723223890271\n",
      "LogisticRegression() 0.6355895085306849\n",
      "KNeighborsClassifier() 0.5157626687038451\n",
      "RandomForestClassifier() 0.498992673992674\n",
      "GradientBoostingClassifier() 0.6026982773785843\n",
      "<catboost.core.CatBoostClassifier object at 0x000001EB3482B188> 0.47479296066252585\n"
     ]
    }
   ],
   "source": [
    "from sklearn.svm import SVC\n",
    "from sklearn.neighbors import KNeighborsClassifier\n",
    "from sklearn.ensemble import RandomForestClassifier, GradientBoostingClassifier\n",
    "from catboost import CatBoostClassifier\n",
    "\n",
    "for model in [SVC(kernel='linear'), LogisticRegression(), KNeighborsClassifier(), RandomForestClassifier(), \\\n",
    "             GradientBoostingClassifier(), CatBoostClassifier(verbose=False)]:\n",
    "    pipe_lasso =  Pipeline([\n",
    "        ('cat_encoder_', LeaveOneOutEncoder(cols=cat_cols)),\n",
    "        ('poly_featurizer_', PolynomialFeatures(degree=4)),\n",
    "        ('scaler_', StandardScaler()),\n",
    "        ('selector_', SelectFromModel(LogisticRegression(penalty='l1', max_iter=1000, solver='liblinear'), \n",
    "                                      threshold=1e-5)), \n",
    "        ('model_',model)])\n",
    "\n",
    "    cv_res4 = cross_validate(pipe_lasso, X, y, cv=5, scoring='f1', return_train_score=True)\n",
    "    print(model, cv_res4['test_score'].mean())"
   ]
  },
  {
   "cell_type": "markdown",
   "metadata": {},
   "source": [
    "## Let's give a chance to CatBoost.\n",
    "\n",
    "Find optimal number of trees."
   ]
  },
  {
   "cell_type": "code",
   "execution_count": 102,
   "metadata": {},
   "outputs": [
    {
     "name": "stderr",
     "output_type": "stream",
     "text": [
      "100%|██████████████████████████████████████████████████████████████████████████████████| 40/40 [04:14<00:00,  6.37s/it]\n"
     ]
    },
    {
     "data": {
      "image/png": "[encoded data removed]",
      "text/plain": [
       "<Figure size 432x288 with 1 Axes>"
      ]
     },
     "metadata": {
      "needs_background": "light"
     },
     "output_type": "display_data"
    }
   ],
   "source": [
    "from sklearn.model_selection import train_test_split\n",
    "from tqdm import tqdm\n",
    "from sklearn.metrics import f1_score\n",
    "\n",
    "X_train, X_test, y_train, y_test = train_test_split(X, y, test_size=0.2, random_state=42)\n",
    "\n",
    "f1_train = []\n",
    "f1_test = []\n",
    "\n",
    "max_test = -1\n",
    "optimal_n = -1\n",
    "\n",
    "pipe_pre =  Pipeline([\n",
    "    ('cat_encoder_', LeaveOneOutEncoder(cols=cat_cols)),\n",
    "    ('poly_featurizer_', PolynomialFeatures(degree=4)),\n",
    "    ('scaler_', StandardScaler()),\n",
    "    ('selector_', SelectFromModel(LogisticRegression(penalty='l1', max_iter=1000, solver='liblinear'), \n",
    "                                      threshold=1e-5))])\n",
    "\n",
    "X_train_new = pipe_pre.fit_transform(X_train, y_train)\n",
    "X_test_new = pipe_pre.transform(X_test)\n",
    "\n",
    "for n_estimators in tqdm(np.arange(10, 2000, 50)):\n",
    "\n",
    "    model = CatBoostClassifier(n_estimators = n_estimators, verbose=False)\n",
    "    model.fit(X_train_new, y_train)\n",
    "    \n",
    "    train_pred = model.predict(X_train_new)\n",
    "    test_pred = model.predict(X_test_new)\n",
    "    \n",
    "    if f1_score(y_test, test_pred) > max_test:\n",
    "        max_test = f1_score(y_test, test_pred)\n",
    "        optimal_n = n_estimators\n",
    "\n",
    "    f1_train.append(f1_score(y_train, train_pred))\n",
    "    f1_test.append(f1_score(y_test, test_pred))\n",
    "\n",
    "n_list = np.arange(10, 2000, 50)\n",
    "plt.plot(n_list, f1_train, label='CatBoost train')    \n",
    "plt.plot(n_list, f1_test, label='CatBoost test')    \n",
    "plt.show()"
   ]
  },
  {
   "cell_type": "code",
   "execution_count": 103,
   "metadata": {},
   "outputs": [
    {
     "data": {
      "text/plain": [
       "(160, 0.7826086956521738)"
      ]
     },
     "execution_count": 103,
     "metadata": {},
     "output_type": "execute_result"
    }
   ],
   "source": [
    "optimal_n, max_test"
   ]
  },
  {
   "cell_type": "markdown",
   "metadata": {},
   "source": [
    "We can see that catboost doesn't overfit! The best n_estimators is about 160 with f1-score = 0.783."
   ]
  },
  {
   "cell_type": "markdown",
   "metadata": {},
   "source": [
    "Let's evaluate this model using cross-validation."
   ]
  },
  {
   "cell_type": "code",
   "execution_count": 109,
   "metadata": {},
   "outputs": [
    {
     "name": "stdout",
     "output_type": "stream",
     "text": [
      "<catboost.core.CatBoostClassifier object at 0x000001EB3571DCC8> 0.5110041407867495\n"
     ]
    }
   ],
   "source": [
    "pipe_cb =  Pipeline([\n",
    "    ('cat_encoder_', LeaveOneOutEncoder(cols=cat_cols)),\n",
    "    ('poly_featurizer_', PolynomialFeatures(degree=4)),\n",
    "    ('scaler_', StandardScaler()),\n",
    "    ('selector_', SelectFromModel(LogisticRegression(penalty='l1', max_iter=1000, solver='liblinear'), \n",
    "                                  threshold=1e-5)), \n",
    "    ('model_',CatBoostClassifier(n_estimators=optimal_n, verbose=False))])\n",
    "\n",
    "cv_res5 = cross_validate(pipe_cb, X, y, cv=5, scoring='f1', return_train_score=True)\n",
    "print(model, cv_res5['test_score'].mean())"
   ]
  },
  {
   "cell_type": "code",
   "execution_count": 107,
   "metadata": {},
   "outputs": [
    {
     "data": {
      "text/plain": [
       "array([0.375     , 0.88888889, 0.5       , 0.43478261, 0.26086957])"
      ]
     },
     "execution_count": 107,
     "metadata": {},
     "output_type": "execute_result"
    }
   ],
   "source": [
    "cv_res4['test_score']"
   ]
  },
  {
   "cell_type": "markdown",
   "metadata": {},
   "source": [
    "Score depends a lot on the split. We can see it. Let's stop here and try catboost features!\n",
    "\n",
    "CatBoost can encode categorical features itself. Let's try to do it."
   ]
  },
  {
   "cell_type": "code",
   "execution_count": 110,
   "metadata": {},
   "outputs": [
    {
     "name": "stdout",
     "output_type": "stream",
     "text": [
      "0.7059454191033139\n"
     ]
    }
   ],
   "source": [
    "cat_features = [0, 1]\n",
    "\n",
    "cv_res6 = cross_validate(CatBoostClassifier(n_estimators=300, cat_features=cat_features, verbose=False),\\\n",
    "                                            X, y, cv=5, scoring='f1', return_train_score=True)\n",
    "print(cv_res6['test_score'].mean())"
   ]
  },
  {
   "cell_type": "markdown",
   "metadata": {},
   "source": [
    "Now we will find n_estimators and learning_rate via GridSearchCV."
   ]
  },
  {
   "cell_type": "code",
   "execution_count": null,
   "metadata": {
    "collapsed": true
   },
   "outputs": [],
   "source": [
    "from sklearn.model_selection import GridSearchCV\n",
    "\n",
    "params = {'n_estimators' : np.arange(300,400,20),\n",
    "          'learning_rate' : [0.01, 0.05, 0.1]}\n",
    "\n",
    "gs = GridSearchCV(CatBoostClassifier(cat_features=[0,1], verbose=False), params, cv=5, scoring='f1')\n",
    "gs.fit(X, y)"
   ]
  },
  {
   "cell_type": "code",
   "execution_count": null,
   "metadata": {},
   "outputs": [],
   "source": [
    "gs.best_score_, gs.best_params_"
   ]
  },
  {
   "cell_type": "markdown",
   "metadata": {},
   "source": [
    "Let's go deeper and find optimal max_depth."
   ]
  },
  {
   "cell_type": "code",
   "execution_count": null,
   "metadata": {},
   "outputs": [],
   "source": [
    "from sklearn.model_selection import GridSearchCV\n",
    "\n",
    "params = {'max_depth' : np.arange(2,15)}\n",
    "\n",
    "gs2 = GridSearchCV(CatBoostClassifier(n_estimators=340, learning_rate=0.05, cat_features=[0,1], verbose=False), \\\n",
    "                   params, cv=5, scoring='f1')\n",
    "gs2.fit(X, y)\n",
    "\n",
    "gs2.best_score_, gs2.best_params_"
   ]
  },
  {
   "cell_type": "markdown",
   "metadata": {},
   "source": [
    "Profit!"
   ]
  }
 ],
 "metadata": {
  "kernelspec": {
   "display_name": "Python 3",
   "language": "python",
   "name": "python3"
  },
  "language_info": {
   "codemirror_mode": {
    "name": "ipython",
    "version": 3
   },
   "file_extension": ".py",
   "mimetype": "text/x-python",
   "name": "python",
   "nbconvert_exporter": "python",
   "pygments_lexer": "ipython3",
   "version": "3.7.6"
  },
  "toc": {
   "base_numbering": 1,
   "nav_menu": {},
   "number_sections": true,
   "sideBar": true,
   "skip_h1_title": false,
   "title_cell": "Table of Contents",
   "title_sidebar": "Contents",
   "toc_cell": false,
   "toc_position": {},
   "toc_section_display": true,
   "toc_window_display": false
  }
 },
 "nbformat": 4,
 "nbformat_minor": 5
}
